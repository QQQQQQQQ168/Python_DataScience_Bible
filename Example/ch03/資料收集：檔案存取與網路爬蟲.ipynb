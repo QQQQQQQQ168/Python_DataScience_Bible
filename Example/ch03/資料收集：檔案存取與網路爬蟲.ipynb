{
  "nbformat": 4,
  "nbformat_minor": 0,
  "metadata": {
    "colab": {
      "name": "資料讀取與網路爬蟲.ipynb",
      "provenance": [],
      "collapsed_sections": []
    },
    "kernelspec": {
      "name": "python3",
      "display_name": "Python 3"
    },
    "language_info": {
      "name": "python"
    }
  },
  "cells": [
    {
      "cell_type": "markdown",
      "source": [
        "# CSV檔案的讀取"
      ],
      "metadata": {
        "id": "zGGHOXD8G7wB"
      }
    },
    {
      "cell_type": "code",
      "execution_count": null,
      "metadata": {
        "id": "BqS6zk-bTd_A",
        "colab": {
          "base_uri": "https://localhost:8080/",
          "height": 424
        },
        "outputId": "28cf06ce-a9d0-4c70-fcd6-62dfcf415ca9"
      },
      "outputs": [
        {
          "output_type": "execute_result",
          "data": {
            "text/html": [
              "\n",
              "  <div id=\"df-862f6204-2a67-4b75-a131-e38949d9b8a1\">\n",
              "    <div class=\"colab-df-container\">\n",
              "      <div>\n",
              "<style scoped>\n",
              "    .dataframe tbody tr th:only-of-type {\n",
              "        vertical-align: middle;\n",
              "    }\n",
              "\n",
              "    .dataframe tbody tr th {\n",
              "        vertical-align: top;\n",
              "    }\n",
              "\n",
              "    .dataframe thead th {\n",
              "        text-align: right;\n",
              "    }\n",
              "</style>\n",
              "<table border=\"1\" class=\"dataframe\">\n",
              "  <thead>\n",
              "    <tr style=\"text-align: right;\">\n",
              "      <th></th>\n",
              "      <th>country_ch</th>\n",
              "      <th>country_en</th>\n",
              "      <th>cases</th>\n",
              "      <th>deaths</th>\n",
              "    </tr>\n",
              "  </thead>\n",
              "  <tbody>\n",
              "    <tr>\n",
              "      <th>0</th>\n",
              "      <td>美國</td>\n",
              "      <td>United States</td>\n",
              "      <td>76,407,539</td>\n",
              "      <td>923,087</td>\n",
              "    </tr>\n",
              "    <tr>\n",
              "      <th>1</th>\n",
              "      <td>印度</td>\n",
              "      <td>India</td>\n",
              "      <td>42,272,014</td>\n",
              "      <td>502,874</td>\n",
              "    </tr>\n",
              "    <tr>\n",
              "      <th>2</th>\n",
              "      <td>巴西</td>\n",
              "      <td>Brazil</td>\n",
              "      <td>26,599,593</td>\n",
              "      <td>632,621</td>\n",
              "    </tr>\n",
              "    <tr>\n",
              "      <th>3</th>\n",
              "      <td>法國</td>\n",
              "      <td>France</td>\n",
              "      <td>20,804,372</td>\n",
              "      <td>132,923</td>\n",
              "    </tr>\n",
              "    <tr>\n",
              "      <th>4</th>\n",
              "      <td>英國</td>\n",
              "      <td>United Kingdom</td>\n",
              "      <td>17,866,632</td>\n",
              "      <td>158,363</td>\n",
              "    </tr>\n",
              "    <tr>\n",
              "      <th>...</th>\n",
              "      <td>...</td>\n",
              "      <td>...</td>\n",
              "      <td>...</td>\n",
              "      <td>...</td>\n",
              "    </tr>\n",
              "    <tr>\n",
              "      <th>193</th>\n",
              "      <td>東加</td>\n",
              "      <td>Tonga</td>\n",
              "      <td>8</td>\n",
              "      <td>0</td>\n",
              "    </tr>\n",
              "    <tr>\n",
              "      <th>194</th>\n",
              "      <td>萬那杜</td>\n",
              "      <td>Vanuatu</td>\n",
              "      <td>7</td>\n",
              "      <td>1</td>\n",
              "    </tr>\n",
              "    <tr>\n",
              "      <th>195</th>\n",
              "      <td>馬紹爾群島</td>\n",
              "      <td>Marshall Islands</td>\n",
              "      <td>7</td>\n",
              "      <td>0</td>\n",
              "    </tr>\n",
              "    <tr>\n",
              "      <th>196</th>\n",
              "      <td>密克羅尼西亞聯邦</td>\n",
              "      <td>Micronesia</td>\n",
              "      <td>1</td>\n",
              "      <td>0</td>\n",
              "    </tr>\n",
              "    <tr>\n",
              "      <th>197</th>\n",
              "      <td>庫克群島</td>\n",
              "      <td>Cook Islands</td>\n",
              "      <td>1</td>\n",
              "      <td>0</td>\n",
              "    </tr>\n",
              "  </tbody>\n",
              "</table>\n",
              "<p>198 rows × 4 columns</p>\n",
              "</div>\n",
              "      <button class=\"colab-df-convert\" onclick=\"convertToInteractive('df-862f6204-2a67-4b75-a131-e38949d9b8a1')\"\n",
              "              title=\"Convert this dataframe to an interactive table.\"\n",
              "              style=\"display:none;\">\n",
              "        \n",
              "  <svg xmlns=\"http://www.w3.org/2000/svg\" height=\"24px\"viewBox=\"0 0 24 24\"\n",
              "       width=\"24px\">\n",
              "    <path d=\"M0 0h24v24H0V0z\" fill=\"none\"/>\n",
              "    <path d=\"M18.56 5.44l.94 2.06.94-2.06 2.06-.94-2.06-.94-.94-2.06-.94 2.06-2.06.94zm-11 1L8.5 8.5l.94-2.06 2.06-.94-2.06-.94L8.5 2.5l-.94 2.06-2.06.94zm10 10l.94 2.06.94-2.06 2.06-.94-2.06-.94-.94-2.06-.94 2.06-2.06.94z\"/><path d=\"M17.41 7.96l-1.37-1.37c-.4-.4-.92-.59-1.43-.59-.52 0-1.04.2-1.43.59L10.3 9.45l-7.72 7.72c-.78.78-.78 2.05 0 2.83L4 21.41c.39.39.9.59 1.41.59.51 0 1.02-.2 1.41-.59l7.78-7.78 2.81-2.81c.8-.78.8-2.07 0-2.86zM5.41 20L4 18.59l7.72-7.72 1.47 1.35L5.41 20z\"/>\n",
              "  </svg>\n",
              "      </button>\n",
              "      \n",
              "  <style>\n",
              "    .colab-df-container {\n",
              "      display:flex;\n",
              "      flex-wrap:wrap;\n",
              "      gap: 12px;\n",
              "    }\n",
              "\n",
              "    .colab-df-convert {\n",
              "      background-color: #E8F0FE;\n",
              "      border: none;\n",
              "      border-radius: 50%;\n",
              "      cursor: pointer;\n",
              "      display: none;\n",
              "      fill: #1967D2;\n",
              "      height: 32px;\n",
              "      padding: 0 0 0 0;\n",
              "      width: 32px;\n",
              "    }\n",
              "\n",
              "    .colab-df-convert:hover {\n",
              "      background-color: #E2EBFA;\n",
              "      box-shadow: 0px 1px 2px rgba(60, 64, 67, 0.3), 0px 1px 3px 1px rgba(60, 64, 67, 0.15);\n",
              "      fill: #174EA6;\n",
              "    }\n",
              "\n",
              "    [theme=dark] .colab-df-convert {\n",
              "      background-color: #3B4455;\n",
              "      fill: #D2E3FC;\n",
              "    }\n",
              "\n",
              "    [theme=dark] .colab-df-convert:hover {\n",
              "      background-color: #434B5C;\n",
              "      box-shadow: 0px 1px 3px 1px rgba(0, 0, 0, 0.15);\n",
              "      filter: drop-shadow(0px 1px 2px rgba(0, 0, 0, 0.3));\n",
              "      fill: #FFFFFF;\n",
              "    }\n",
              "  </style>\n",
              "\n",
              "      <script>\n",
              "        const buttonEl =\n",
              "          document.querySelector('#df-862f6204-2a67-4b75-a131-e38949d9b8a1 button.colab-df-convert');\n",
              "        buttonEl.style.display =\n",
              "          google.colab.kernel.accessAllowed ? 'block' : 'none';\n",
              "\n",
              "        async function convertToInteractive(key) {\n",
              "          const element = document.querySelector('#df-862f6204-2a67-4b75-a131-e38949d9b8a1');\n",
              "          const dataTable =\n",
              "            await google.colab.kernel.invokeFunction('convertToInteractive',\n",
              "                                                     [key], {});\n",
              "          if (!dataTable) return;\n",
              "\n",
              "          const docLinkHtml = 'Like what you see? Visit the ' +\n",
              "            '<a target=\"_blank\" href=https://colab.research.google.com/notebooks/data_table.ipynb>data table notebook</a>'\n",
              "            + ' to learn more about interactive tables.';\n",
              "          element.innerHTML = '';\n",
              "          dataTable['output_type'] = 'display_data';\n",
              "          await google.colab.output.renderOutput(dataTable, element);\n",
              "          const docLink = document.createElement('div');\n",
              "          docLink.innerHTML = docLinkHtml;\n",
              "          element.appendChild(docLink);\n",
              "        }\n",
              "      </script>\n",
              "    </div>\n",
              "  </div>\n",
              "  "
            ],
            "text/plain": [
              "    country_ch        country_en       cases   deaths\n",
              "0           美國     United States  76,407,539  923,087\n",
              "1           印度             India  42,272,014  502,874\n",
              "2           巴西            Brazil  26,599,593  632,621\n",
              "3           法國            France  20,804,372  132,923\n",
              "4           英國    United Kingdom  17,866,632  158,363\n",
              "..         ...               ...         ...      ...\n",
              "193         東加             Tonga           8        0\n",
              "194        萬那杜           Vanuatu           7        1\n",
              "195      馬紹爾群島  Marshall Islands           7        0\n",
              "196   密克羅尼西亞聯邦        Micronesia           1        0\n",
              "197       庫克群島      Cook Islands           1        0\n",
              "\n",
              "[198 rows x 4 columns]"
            ]
          },
          "metadata": {},
          "execution_count": 2
        }
      ],
      "source": [
        "import pandas as pd\n",
        "\n",
        "df = pd.read_csv('covid19.csv')\n",
        "df"
      ]
    },
    {
      "cell_type": "markdown",
      "source": [
        "# JSON資料的讀取"
      ],
      "metadata": {
        "id": "OKdJQ0gqHHGf"
      }
    },
    {
      "cell_type": "code",
      "source": [
        "import pandas as pd\n",
        "\n",
        "df = pd.read_json('covid19.json')\n",
        "df"
      ],
      "metadata": {
        "id": "ZUaA8nJqTTdf",
        "colab": {
          "base_uri": "https://localhost:8080/",
          "height": 424
        },
        "outputId": "51185d1e-9f66-4d53-9bb6-117066afe591"
      },
      "execution_count": null,
      "outputs": [
        {
          "output_type": "execute_result",
          "data": {
            "text/html": [
              "\n",
              "  <div id=\"df-6dd4b627-6ae3-4d98-a0fa-37b41784b9bf\">\n",
              "    <div class=\"colab-df-container\">\n",
              "      <div>\n",
              "<style scoped>\n",
              "    .dataframe tbody tr th:only-of-type {\n",
              "        vertical-align: middle;\n",
              "    }\n",
              "\n",
              "    .dataframe tbody tr th {\n",
              "        vertical-align: top;\n",
              "    }\n",
              "\n",
              "    .dataframe thead th {\n",
              "        text-align: right;\n",
              "    }\n",
              "</style>\n",
              "<table border=\"1\" class=\"dataframe\">\n",
              "  <thead>\n",
              "    <tr style=\"text-align: right;\">\n",
              "      <th></th>\n",
              "      <th>country_ch</th>\n",
              "      <th>country_en</th>\n",
              "      <th>cases</th>\n",
              "      <th>deaths</th>\n",
              "    </tr>\n",
              "  </thead>\n",
              "  <tbody>\n",
              "    <tr>\n",
              "      <th>0</th>\n",
              "      <td>美國</td>\n",
              "      <td>United States</td>\n",
              "      <td>34,516,883</td>\n",
              "      <td>622,158</td>\n",
              "    </tr>\n",
              "    <tr>\n",
              "      <th>1</th>\n",
              "      <td>印度</td>\n",
              "      <td>India</td>\n",
              "      <td>31,371,901</td>\n",
              "      <td>420,551</td>\n",
              "    </tr>\n",
              "    <tr>\n",
              "      <th>2</th>\n",
              "      <td>巴西</td>\n",
              "      <td>Brazil</td>\n",
              "      <td>19,688,663</td>\n",
              "      <td>549,924</td>\n",
              "    </tr>\n",
              "    <tr>\n",
              "      <th>3</th>\n",
              "      <td>俄羅斯</td>\n",
              "      <td>Russia</td>\n",
              "      <td>6,126,541</td>\n",
              "      <td>153,874</td>\n",
              "    </tr>\n",
              "    <tr>\n",
              "      <th>4</th>\n",
              "      <td>法國</td>\n",
              "      <td>France</td>\n",
              "      <td>5,993,937</td>\n",
              "      <td>111,644</td>\n",
              "    </tr>\n",
              "    <tr>\n",
              "      <th>...</th>\n",
              "      <td>...</td>\n",
              "      <td>...</td>\n",
              "      <td>...</td>\n",
              "      <td>...</td>\n",
              "    </tr>\n",
              "    <tr>\n",
              "      <th>190</th>\n",
              "      <td>萬那杜</td>\n",
              "      <td>Vanuatu</td>\n",
              "      <td>4</td>\n",
              "      <td>1</td>\n",
              "    </tr>\n",
              "    <tr>\n",
              "      <th>191</th>\n",
              "      <td>馬紹爾群島</td>\n",
              "      <td>Marshall Islands</td>\n",
              "      <td>4</td>\n",
              "      <td>0</td>\n",
              "    </tr>\n",
              "    <tr>\n",
              "      <th>192</th>\n",
              "      <td>帛琉</td>\n",
              "      <td>Palau</td>\n",
              "      <td>2</td>\n",
              "      <td>0</td>\n",
              "    </tr>\n",
              "    <tr>\n",
              "      <th>193</th>\n",
              "      <td>薩摩亞</td>\n",
              "      <td>Samoa</td>\n",
              "      <td>1</td>\n",
              "      <td>0</td>\n",
              "    </tr>\n",
              "    <tr>\n",
              "      <th>194</th>\n",
              "      <td>密克羅尼西亞聯邦</td>\n",
              "      <td>Micronesia</td>\n",
              "      <td>1</td>\n",
              "      <td>0</td>\n",
              "    </tr>\n",
              "  </tbody>\n",
              "</table>\n",
              "<p>195 rows × 4 columns</p>\n",
              "</div>\n",
              "      <button class=\"colab-df-convert\" onclick=\"convertToInteractive('df-6dd4b627-6ae3-4d98-a0fa-37b41784b9bf')\"\n",
              "              title=\"Convert this dataframe to an interactive table.\"\n",
              "              style=\"display:none;\">\n",
              "        \n",
              "  <svg xmlns=\"http://www.w3.org/2000/svg\" height=\"24px\"viewBox=\"0 0 24 24\"\n",
              "       width=\"24px\">\n",
              "    <path d=\"M0 0h24v24H0V0z\" fill=\"none\"/>\n",
              "    <path d=\"M18.56 5.44l.94 2.06.94-2.06 2.06-.94-2.06-.94-.94-2.06-.94 2.06-2.06.94zm-11 1L8.5 8.5l.94-2.06 2.06-.94-2.06-.94L8.5 2.5l-.94 2.06-2.06.94zm10 10l.94 2.06.94-2.06 2.06-.94-2.06-.94-.94-2.06-.94 2.06-2.06.94z\"/><path d=\"M17.41 7.96l-1.37-1.37c-.4-.4-.92-.59-1.43-.59-.52 0-1.04.2-1.43.59L10.3 9.45l-7.72 7.72c-.78.78-.78 2.05 0 2.83L4 21.41c.39.39.9.59 1.41.59.51 0 1.02-.2 1.41-.59l7.78-7.78 2.81-2.81c.8-.78.8-2.07 0-2.86zM5.41 20L4 18.59l7.72-7.72 1.47 1.35L5.41 20z\"/>\n",
              "  </svg>\n",
              "      </button>\n",
              "      \n",
              "  <style>\n",
              "    .colab-df-container {\n",
              "      display:flex;\n",
              "      flex-wrap:wrap;\n",
              "      gap: 12px;\n",
              "    }\n",
              "\n",
              "    .colab-df-convert {\n",
              "      background-color: #E8F0FE;\n",
              "      border: none;\n",
              "      border-radius: 50%;\n",
              "      cursor: pointer;\n",
              "      display: none;\n",
              "      fill: #1967D2;\n",
              "      height: 32px;\n",
              "      padding: 0 0 0 0;\n",
              "      width: 32px;\n",
              "    }\n",
              "\n",
              "    .colab-df-convert:hover {\n",
              "      background-color: #E2EBFA;\n",
              "      box-shadow: 0px 1px 2px rgba(60, 64, 67, 0.3), 0px 1px 3px 1px rgba(60, 64, 67, 0.15);\n",
              "      fill: #174EA6;\n",
              "    }\n",
              "\n",
              "    [theme=dark] .colab-df-convert {\n",
              "      background-color: #3B4455;\n",
              "      fill: #D2E3FC;\n",
              "    }\n",
              "\n",
              "    [theme=dark] .colab-df-convert:hover {\n",
              "      background-color: #434B5C;\n",
              "      box-shadow: 0px 1px 3px 1px rgba(0, 0, 0, 0.15);\n",
              "      filter: drop-shadow(0px 1px 2px rgba(0, 0, 0, 0.3));\n",
              "      fill: #FFFFFF;\n",
              "    }\n",
              "  </style>\n",
              "\n",
              "      <script>\n",
              "        const buttonEl =\n",
              "          document.querySelector('#df-6dd4b627-6ae3-4d98-a0fa-37b41784b9bf button.colab-df-convert');\n",
              "        buttonEl.style.display =\n",
              "          google.colab.kernel.accessAllowed ? 'block' : 'none';\n",
              "\n",
              "        async function convertToInteractive(key) {\n",
              "          const element = document.querySelector('#df-6dd4b627-6ae3-4d98-a0fa-37b41784b9bf');\n",
              "          const dataTable =\n",
              "            await google.colab.kernel.invokeFunction('convertToInteractive',\n",
              "                                                     [key], {});\n",
              "          if (!dataTable) return;\n",
              "\n",
              "          const docLinkHtml = 'Like what you see? Visit the ' +\n",
              "            '<a target=\"_blank\" href=https://colab.research.google.com/notebooks/data_table.ipynb>data table notebook</a>'\n",
              "            + ' to learn more about interactive tables.';\n",
              "          element.innerHTML = '';\n",
              "          dataTable['output_type'] = 'display_data';\n",
              "          await google.colab.output.renderOutput(dataTable, element);\n",
              "          const docLink = document.createElement('div');\n",
              "          docLink.innerHTML = docLinkHtml;\n",
              "          element.appendChild(docLink);\n",
              "        }\n",
              "      </script>\n",
              "    </div>\n",
              "  </div>\n",
              "  "
            ],
            "text/plain": [
              "    country_ch        country_en       cases   deaths\n",
              "0           美國     United States  34,516,883  622,158\n",
              "1           印度             India  31,371,901  420,551\n",
              "2           巴西            Brazil  19,688,663  549,924\n",
              "3          俄羅斯            Russia   6,126,541  153,874\n",
              "4           法國            France   5,993,937  111,644\n",
              "..         ...               ...         ...      ...\n",
              "190        萬那杜           Vanuatu           4        1\n",
              "191      馬紹爾群島  Marshall Islands           4        0\n",
              "192         帛琉             Palau           2        0\n",
              "193        薩摩亞             Samoa           1        0\n",
              "194   密克羅尼西亞聯邦        Micronesia           1        0\n",
              "\n",
              "[195 rows x 4 columns]"
            ]
          },
          "metadata": {},
          "execution_count": 5
        }
      ]
    },
    {
      "cell_type": "markdown",
      "source": [
        "# Excel試算表檔案的讀取"
      ],
      "metadata": {
        "id": "F_AEV72SHObv"
      }
    },
    {
      "cell_type": "code",
      "source": [
        "import pandas as pd\n",
        "\n",
        "df = pd.read_excel('covid19.xlsx')\n",
        "df"
      ],
      "metadata": {
        "colab": {
          "base_uri": "https://localhost:8080/",
          "height": 424
        },
        "id": "mR7glJRYzSMa",
        "outputId": "f22c448e-82fa-4f5f-9680-dfdf2e664ea3"
      },
      "execution_count": null,
      "outputs": [
        {
          "output_type": "execute_result",
          "data": {
            "text/html": [
              "\n",
              "  <div id=\"df-932bdd3b-1d79-4e1e-be6f-126658bce49f\">\n",
              "    <div class=\"colab-df-container\">\n",
              "      <div>\n",
              "<style scoped>\n",
              "    .dataframe tbody tr th:only-of-type {\n",
              "        vertical-align: middle;\n",
              "    }\n",
              "\n",
              "    .dataframe tbody tr th {\n",
              "        vertical-align: top;\n",
              "    }\n",
              "\n",
              "    .dataframe thead th {\n",
              "        text-align: right;\n",
              "    }\n",
              "</style>\n",
              "<table border=\"1\" class=\"dataframe\">\n",
              "  <thead>\n",
              "    <tr style=\"text-align: right;\">\n",
              "      <th></th>\n",
              "      <th>country_ch</th>\n",
              "      <th>country_en</th>\n",
              "      <th>cases</th>\n",
              "      <th>deaths</th>\n",
              "    </tr>\n",
              "  </thead>\n",
              "  <tbody>\n",
              "    <tr>\n",
              "      <th>0</th>\n",
              "      <td>美國</td>\n",
              "      <td>United States</td>\n",
              "      <td>76407539</td>\n",
              "      <td>923087</td>\n",
              "    </tr>\n",
              "    <tr>\n",
              "      <th>1</th>\n",
              "      <td>印度</td>\n",
              "      <td>India</td>\n",
              "      <td>42272014</td>\n",
              "      <td>502874</td>\n",
              "    </tr>\n",
              "    <tr>\n",
              "      <th>2</th>\n",
              "      <td>巴西</td>\n",
              "      <td>Brazil</td>\n",
              "      <td>26599593</td>\n",
              "      <td>632621</td>\n",
              "    </tr>\n",
              "    <tr>\n",
              "      <th>3</th>\n",
              "      <td>法國</td>\n",
              "      <td>France</td>\n",
              "      <td>20804372</td>\n",
              "      <td>132923</td>\n",
              "    </tr>\n",
              "    <tr>\n",
              "      <th>4</th>\n",
              "      <td>英國</td>\n",
              "      <td>United Kingdom</td>\n",
              "      <td>17866632</td>\n",
              "      <td>158363</td>\n",
              "    </tr>\n",
              "    <tr>\n",
              "      <th>...</th>\n",
              "      <td>...</td>\n",
              "      <td>...</td>\n",
              "      <td>...</td>\n",
              "      <td>...</td>\n",
              "    </tr>\n",
              "    <tr>\n",
              "      <th>193</th>\n",
              "      <td>東加</td>\n",
              "      <td>Tonga</td>\n",
              "      <td>8</td>\n",
              "      <td>0</td>\n",
              "    </tr>\n",
              "    <tr>\n",
              "      <th>194</th>\n",
              "      <td>萬那杜</td>\n",
              "      <td>Vanuatu</td>\n",
              "      <td>7</td>\n",
              "      <td>1</td>\n",
              "    </tr>\n",
              "    <tr>\n",
              "      <th>195</th>\n",
              "      <td>馬紹爾群島</td>\n",
              "      <td>Marshall Islands</td>\n",
              "      <td>7</td>\n",
              "      <td>0</td>\n",
              "    </tr>\n",
              "    <tr>\n",
              "      <th>196</th>\n",
              "      <td>密克羅尼西亞聯邦</td>\n",
              "      <td>Micronesia</td>\n",
              "      <td>1</td>\n",
              "      <td>0</td>\n",
              "    </tr>\n",
              "    <tr>\n",
              "      <th>197</th>\n",
              "      <td>庫克群島</td>\n",
              "      <td>Cook Islands</td>\n",
              "      <td>1</td>\n",
              "      <td>0</td>\n",
              "    </tr>\n",
              "  </tbody>\n",
              "</table>\n",
              "<p>198 rows × 4 columns</p>\n",
              "</div>\n",
              "      <button class=\"colab-df-convert\" onclick=\"convertToInteractive('df-932bdd3b-1d79-4e1e-be6f-126658bce49f')\"\n",
              "              title=\"Convert this dataframe to an interactive table.\"\n",
              "              style=\"display:none;\">\n",
              "        \n",
              "  <svg xmlns=\"http://www.w3.org/2000/svg\" height=\"24px\"viewBox=\"0 0 24 24\"\n",
              "       width=\"24px\">\n",
              "    <path d=\"M0 0h24v24H0V0z\" fill=\"none\"/>\n",
              "    <path d=\"M18.56 5.44l.94 2.06.94-2.06 2.06-.94-2.06-.94-.94-2.06-.94 2.06-2.06.94zm-11 1L8.5 8.5l.94-2.06 2.06-.94-2.06-.94L8.5 2.5l-.94 2.06-2.06.94zm10 10l.94 2.06.94-2.06 2.06-.94-2.06-.94-.94-2.06-.94 2.06-2.06.94z\"/><path d=\"M17.41 7.96l-1.37-1.37c-.4-.4-.92-.59-1.43-.59-.52 0-1.04.2-1.43.59L10.3 9.45l-7.72 7.72c-.78.78-.78 2.05 0 2.83L4 21.41c.39.39.9.59 1.41.59.51 0 1.02-.2 1.41-.59l7.78-7.78 2.81-2.81c.8-.78.8-2.07 0-2.86zM5.41 20L4 18.59l7.72-7.72 1.47 1.35L5.41 20z\"/>\n",
              "  </svg>\n",
              "      </button>\n",
              "      \n",
              "  <style>\n",
              "    .colab-df-container {\n",
              "      display:flex;\n",
              "      flex-wrap:wrap;\n",
              "      gap: 12px;\n",
              "    }\n",
              "\n",
              "    .colab-df-convert {\n",
              "      background-color: #E8F0FE;\n",
              "      border: none;\n",
              "      border-radius: 50%;\n",
              "      cursor: pointer;\n",
              "      display: none;\n",
              "      fill: #1967D2;\n",
              "      height: 32px;\n",
              "      padding: 0 0 0 0;\n",
              "      width: 32px;\n",
              "    }\n",
              "\n",
              "    .colab-df-convert:hover {\n",
              "      background-color: #E2EBFA;\n",
              "      box-shadow: 0px 1px 2px rgba(60, 64, 67, 0.3), 0px 1px 3px 1px rgba(60, 64, 67, 0.15);\n",
              "      fill: #174EA6;\n",
              "    }\n",
              "\n",
              "    [theme=dark] .colab-df-convert {\n",
              "      background-color: #3B4455;\n",
              "      fill: #D2E3FC;\n",
              "    }\n",
              "\n",
              "    [theme=dark] .colab-df-convert:hover {\n",
              "      background-color: #434B5C;\n",
              "      box-shadow: 0px 1px 3px 1px rgba(0, 0, 0, 0.15);\n",
              "      filter: drop-shadow(0px 1px 2px rgba(0, 0, 0, 0.3));\n",
              "      fill: #FFFFFF;\n",
              "    }\n",
              "  </style>\n",
              "\n",
              "      <script>\n",
              "        const buttonEl =\n",
              "          document.querySelector('#df-932bdd3b-1d79-4e1e-be6f-126658bce49f button.colab-df-convert');\n",
              "        buttonEl.style.display =\n",
              "          google.colab.kernel.accessAllowed ? 'block' : 'none';\n",
              "\n",
              "        async function convertToInteractive(key) {\n",
              "          const element = document.querySelector('#df-932bdd3b-1d79-4e1e-be6f-126658bce49f');\n",
              "          const dataTable =\n",
              "            await google.colab.kernel.invokeFunction('convertToInteractive',\n",
              "                                                     [key], {});\n",
              "          if (!dataTable) return;\n",
              "\n",
              "          const docLinkHtml = 'Like what you see? Visit the ' +\n",
              "            '<a target=\"_blank\" href=https://colab.research.google.com/notebooks/data_table.ipynb>data table notebook</a>'\n",
              "            + ' to learn more about interactive tables.';\n",
              "          element.innerHTML = '';\n",
              "          dataTable['output_type'] = 'display_data';\n",
              "          await google.colab.output.renderOutput(dataTable, element);\n",
              "          const docLink = document.createElement('div');\n",
              "          docLink.innerHTML = docLinkHtml;\n",
              "          element.appendChild(docLink);\n",
              "        }\n",
              "      </script>\n",
              "    </div>\n",
              "  </div>\n",
              "  "
            ],
            "text/plain": [
              "    country_ch        country_en     cases  deaths\n",
              "0           美國     United States  76407539  923087\n",
              "1           印度             India  42272014  502874\n",
              "2           巴西            Brazil  26599593  632621\n",
              "3           法國            France  20804372  132923\n",
              "4           英國    United Kingdom  17866632  158363\n",
              "..         ...               ...       ...     ...\n",
              "193         東加             Tonga         8       0\n",
              "194        萬那杜           Vanuatu         7       1\n",
              "195      馬紹爾群島  Marshall Islands         7       0\n",
              "196   密克羅尼西亞聯邦        Micronesia         1       0\n",
              "197       庫克群島      Cook Islands         1       0\n",
              "\n",
              "[198 rows x 4 columns]"
            ]
          },
          "metadata": {},
          "execution_count": 11
        }
      ]
    },
    {
      "cell_type": "markdown",
      "source": [
        "# HTML網頁資料讀取"
      ],
      "metadata": {
        "id": "A48FfNieHTO3"
      }
    },
    {
      "cell_type": "code",
      "source": [
        "import pandas as pd\n",
        "\n",
        "url = 'https://www.tiobe.com/tiobe-index/'\n",
        "tables = pd.read_html(url, keep_default_na=False)\n",
        "tables[0].head(10)"
      ],
      "metadata": {
        "colab": {
          "base_uri": "https://localhost:8080/",
          "height": 363
        },
        "id": "222n2Nj7XoxA",
        "outputId": "3341471a-3ac2-412e-9ca9-d8bffae82aff"
      },
      "execution_count": null,
      "outputs": [
        {
          "output_type": "execute_result",
          "data": {
            "text/html": [
              "\n",
              "  <div id=\"df-7fcbf5ce-ee31-4a11-93c8-0326ee0ef3c5\">\n",
              "    <div class=\"colab-df-container\">\n",
              "      <div>\n",
              "<style scoped>\n",
              "    .dataframe tbody tr th:only-of-type {\n",
              "        vertical-align: middle;\n",
              "    }\n",
              "\n",
              "    .dataframe tbody tr th {\n",
              "        vertical-align: top;\n",
              "    }\n",
              "\n",
              "    .dataframe thead th {\n",
              "        text-align: right;\n",
              "    }\n",
              "</style>\n",
              "<table border=\"1\" class=\"dataframe\">\n",
              "  <thead>\n",
              "    <tr style=\"text-align: right;\">\n",
              "      <th></th>\n",
              "      <th>Feb 2022</th>\n",
              "      <th>Feb 2021</th>\n",
              "      <th>Change</th>\n",
              "      <th>Programming Language</th>\n",
              "      <th>Programming Language.1</th>\n",
              "      <th>Ratings</th>\n",
              "      <th>Change.1</th>\n",
              "    </tr>\n",
              "  </thead>\n",
              "  <tbody>\n",
              "    <tr>\n",
              "      <th>0</th>\n",
              "      <td>1</td>\n",
              "      <td>3</td>\n",
              "      <td></td>\n",
              "      <td></td>\n",
              "      <td>Python</td>\n",
              "      <td>15.33%</td>\n",
              "      <td>+4.47%</td>\n",
              "    </tr>\n",
              "    <tr>\n",
              "      <th>1</th>\n",
              "      <td>2</td>\n",
              "      <td>1</td>\n",
              "      <td></td>\n",
              "      <td></td>\n",
              "      <td>C</td>\n",
              "      <td>14.08%</td>\n",
              "      <td>-2.26%</td>\n",
              "    </tr>\n",
              "    <tr>\n",
              "      <th>2</th>\n",
              "      <td>3</td>\n",
              "      <td>2</td>\n",
              "      <td></td>\n",
              "      <td></td>\n",
              "      <td>Java</td>\n",
              "      <td>12.13%</td>\n",
              "      <td>+0.84%</td>\n",
              "    </tr>\n",
              "    <tr>\n",
              "      <th>3</th>\n",
              "      <td>4</td>\n",
              "      <td>4</td>\n",
              "      <td></td>\n",
              "      <td></td>\n",
              "      <td>C++</td>\n",
              "      <td>8.01%</td>\n",
              "      <td>+1.13%</td>\n",
              "    </tr>\n",
              "    <tr>\n",
              "      <th>4</th>\n",
              "      <td>5</td>\n",
              "      <td>5</td>\n",
              "      <td></td>\n",
              "      <td></td>\n",
              "      <td>C#</td>\n",
              "      <td>5.37%</td>\n",
              "      <td>+0.93%</td>\n",
              "    </tr>\n",
              "    <tr>\n",
              "      <th>5</th>\n",
              "      <td>6</td>\n",
              "      <td>6</td>\n",
              "      <td></td>\n",
              "      <td></td>\n",
              "      <td>Visual Basic</td>\n",
              "      <td>5.23%</td>\n",
              "      <td>+0.90%</td>\n",
              "    </tr>\n",
              "    <tr>\n",
              "      <th>6</th>\n",
              "      <td>7</td>\n",
              "      <td>7</td>\n",
              "      <td></td>\n",
              "      <td></td>\n",
              "      <td>JavaScript</td>\n",
              "      <td>1.83%</td>\n",
              "      <td>-0.45%</td>\n",
              "    </tr>\n",
              "    <tr>\n",
              "      <th>7</th>\n",
              "      <td>8</td>\n",
              "      <td>8</td>\n",
              "      <td></td>\n",
              "      <td></td>\n",
              "      <td>PHP</td>\n",
              "      <td>1.79%</td>\n",
              "      <td>+0.04%</td>\n",
              "    </tr>\n",
              "    <tr>\n",
              "      <th>8</th>\n",
              "      <td>9</td>\n",
              "      <td>10</td>\n",
              "      <td></td>\n",
              "      <td></td>\n",
              "      <td>Assembly language</td>\n",
              "      <td>1.60%</td>\n",
              "      <td>-0.06%</td>\n",
              "    </tr>\n",
              "    <tr>\n",
              "      <th>9</th>\n",
              "      <td>10</td>\n",
              "      <td>9</td>\n",
              "      <td></td>\n",
              "      <td></td>\n",
              "      <td>SQL</td>\n",
              "      <td>1.55%</td>\n",
              "      <td>-0.18%</td>\n",
              "    </tr>\n",
              "  </tbody>\n",
              "</table>\n",
              "</div>\n",
              "      <button class=\"colab-df-convert\" onclick=\"convertToInteractive('df-7fcbf5ce-ee31-4a11-93c8-0326ee0ef3c5')\"\n",
              "              title=\"Convert this dataframe to an interactive table.\"\n",
              "              style=\"display:none;\">\n",
              "        \n",
              "  <svg xmlns=\"http://www.w3.org/2000/svg\" height=\"24px\"viewBox=\"0 0 24 24\"\n",
              "       width=\"24px\">\n",
              "    <path d=\"M0 0h24v24H0V0z\" fill=\"none\"/>\n",
              "    <path d=\"M18.56 5.44l.94 2.06.94-2.06 2.06-.94-2.06-.94-.94-2.06-.94 2.06-2.06.94zm-11 1L8.5 8.5l.94-2.06 2.06-.94-2.06-.94L8.5 2.5l-.94 2.06-2.06.94zm10 10l.94 2.06.94-2.06 2.06-.94-2.06-.94-.94-2.06-.94 2.06-2.06.94z\"/><path d=\"M17.41 7.96l-1.37-1.37c-.4-.4-.92-.59-1.43-.59-.52 0-1.04.2-1.43.59L10.3 9.45l-7.72 7.72c-.78.78-.78 2.05 0 2.83L4 21.41c.39.39.9.59 1.41.59.51 0 1.02-.2 1.41-.59l7.78-7.78 2.81-2.81c.8-.78.8-2.07 0-2.86zM5.41 20L4 18.59l7.72-7.72 1.47 1.35L5.41 20z\"/>\n",
              "  </svg>\n",
              "      </button>\n",
              "      \n",
              "  <style>\n",
              "    .colab-df-container {\n",
              "      display:flex;\n",
              "      flex-wrap:wrap;\n",
              "      gap: 12px;\n",
              "    }\n",
              "\n",
              "    .colab-df-convert {\n",
              "      background-color: #E8F0FE;\n",
              "      border: none;\n",
              "      border-radius: 50%;\n",
              "      cursor: pointer;\n",
              "      display: none;\n",
              "      fill: #1967D2;\n",
              "      height: 32px;\n",
              "      padding: 0 0 0 0;\n",
              "      width: 32px;\n",
              "    }\n",
              "\n",
              "    .colab-df-convert:hover {\n",
              "      background-color: #E2EBFA;\n",
              "      box-shadow: 0px 1px 2px rgba(60, 64, 67, 0.3), 0px 1px 3px 1px rgba(60, 64, 67, 0.15);\n",
              "      fill: #174EA6;\n",
              "    }\n",
              "\n",
              "    [theme=dark] .colab-df-convert {\n",
              "      background-color: #3B4455;\n",
              "      fill: #D2E3FC;\n",
              "    }\n",
              "\n",
              "    [theme=dark] .colab-df-convert:hover {\n",
              "      background-color: #434B5C;\n",
              "      box-shadow: 0px 1px 3px 1px rgba(0, 0, 0, 0.15);\n",
              "      filter: drop-shadow(0px 1px 2px rgba(0, 0, 0, 0.3));\n",
              "      fill: #FFFFFF;\n",
              "    }\n",
              "  </style>\n",
              "\n",
              "      <script>\n",
              "        const buttonEl =\n",
              "          document.querySelector('#df-7fcbf5ce-ee31-4a11-93c8-0326ee0ef3c5 button.colab-df-convert');\n",
              "        buttonEl.style.display =\n",
              "          google.colab.kernel.accessAllowed ? 'block' : 'none';\n",
              "\n",
              "        async function convertToInteractive(key) {\n",
              "          const element = document.querySelector('#df-7fcbf5ce-ee31-4a11-93c8-0326ee0ef3c5');\n",
              "          const dataTable =\n",
              "            await google.colab.kernel.invokeFunction('convertToInteractive',\n",
              "                                                     [key], {});\n",
              "          if (!dataTable) return;\n",
              "\n",
              "          const docLinkHtml = 'Like what you see? Visit the ' +\n",
              "            '<a target=\"_blank\" href=https://colab.research.google.com/notebooks/data_table.ipynb>data table notebook</a>'\n",
              "            + ' to learn more about interactive tables.';\n",
              "          element.innerHTML = '';\n",
              "          dataTable['output_type'] = 'display_data';\n",
              "          await google.colab.output.renderOutput(dataTable, element);\n",
              "          const docLink = document.createElement('div');\n",
              "          docLink.innerHTML = docLinkHtml;\n",
              "          element.appendChild(docLink);\n",
              "        }\n",
              "      </script>\n",
              "    </div>\n",
              "  </div>\n",
              "  "
            ],
            "text/plain": [
              "   Feb 2022  Feb 2021 Change  ... Programming Language.1 Ratings Change.1\n",
              "0         1         3         ...                 Python  15.33%   +4.47%\n",
              "1         2         1         ...                      C  14.08%   -2.26%\n",
              "2         3         2         ...                   Java  12.13%   +0.84%\n",
              "3         4         4         ...                    C++   8.01%   +1.13%\n",
              "4         5         5         ...                     C#   5.37%   +0.93%\n",
              "5         6         6         ...           Visual Basic   5.23%   +0.90%\n",
              "6         7         7         ...             JavaScript   1.83%   -0.45%\n",
              "7         8         8         ...                    PHP   1.79%   +0.04%\n",
              "8         9        10         ...      Assembly language   1.60%   -0.06%\n",
              "9        10         9         ...                    SQL   1.55%   -0.18%\n",
              "\n",
              "[10 rows x 7 columns]"
            ]
          },
          "metadata": {},
          "execution_count": 18
        }
      ]
    },
    {
      "cell_type": "markdown",
      "source": [
        "# 儲存資料為檔案"
      ],
      "metadata": {
        "id": "0HmwEFsHHW4h"
      }
    },
    {
      "cell_type": "code",
      "source": [
        "import pandas as pd\n",
        "\n",
        "scores = {'國文':{'王小明':65,'李小美':90,'陳大同':81,'林小玉':79},\n",
        "          '英文':{'王小明':92,'李小美':72,'陳大同':85,'林小玉':53},\n",
        "          '數學':{'王小明':78,'李小美':76,'陳大同':91,'林小玉':47},\n",
        "          '自然':{'王小明':83,'李小美':93,'陳大同':89,'林小玉':94},\n",
        "          '社會':{'王小明':70,'李小美':56,'陳大同':94,'林小玉':80}}\n",
        "df = pd.DataFrame(scores)\n",
        "df.to_csv('scores.csv')"
      ],
      "metadata": {
        "id": "IBjpG0514Asc"
      },
      "execution_count": null,
      "outputs": []
    },
    {
      "cell_type": "markdown",
      "source": [
        "# requests模組：讀取網站檔案"
      ],
      "metadata": {
        "id": "qdNC93S1Hd73"
      }
    },
    {
      "cell_type": "code",
      "source": [
        "import requests\n",
        "url = 'http://www.ehappy.tw/demo.htm'\n",
        "r = requests.get(url)\n",
        "print(r.text)"
      ],
      "metadata": {
        "colab": {
          "base_uri": "https://localhost:8080/"
        },
        "id": "l1ApwBOd16WZ",
        "outputId": "81044615-8a28-4cf0-d690-49b76494b9f0"
      },
      "execution_count": null,
      "outputs": [
        {
          "output_type": "stream",
          "name": "stdout",
          "text": [
            "<!doctype html>\n",
            "<html>\n",
            "  <head>\n",
            "    <meta charset=\"UTF-8\">\n",
            "    <title>Hello</title>\n",
            "  </head>\n",
            "  <body>\n",
            "    <p>Hello World!</p>\n",
            "  </body>\n",
            "</html>\n"
          ]
        }
      ]
    },
    {
      "cell_type": "code",
      "source": [
        "import requests\n",
        "# 將查詢參數定義為字典資料加入GET請求中\n",
        "payload = {'key1': 'value1', 'key2': 'value2'}\n",
        "r = requests.get(\"http://httpbin.org/get\", params=payload)\n",
        "print(r.text)"
      ],
      "metadata": {
        "colab": {
          "base_uri": "https://localhost:8080/"
        },
        "id": "F_UNzcCCCgwI",
        "outputId": "e64ec5ff-2dca-49e0-8338-b582f97e495d"
      },
      "execution_count": null,
      "outputs": [
        {
          "output_type": "stream",
          "name": "stdout",
          "text": [
            "{\n",
            "  \"args\": {\n",
            "    \"key1\": \"value1\", \n",
            "    \"key2\": \"value2\"\n",
            "  }, \n",
            "  \"headers\": {\n",
            "    \"Accept\": \"*/*\", \n",
            "    \"Accept-Encoding\": \"gzip, deflate\", \n",
            "    \"Host\": \"httpbin.org\", \n",
            "    \"User-Agent\": \"python-requests/2.23.0\", \n",
            "    \"X-Amzn-Trace-Id\": \"Root=1-6203982c-011d569f3be97bfa789f5494\"\n",
            "  }, \n",
            "  \"origin\": \"104.199.123.139\", \n",
            "  \"url\": \"http://httpbin.org/get?key1=value1&key2=value2\"\n",
            "}\n",
            "\n"
          ]
        }
      ]
    },
    {
      "cell_type": "code",
      "source": [
        "import requests\n",
        "# 將查詢參數加入POST請求中\n",
        "payload = {'key1': 'value1', 'key2': 'value2'}\n",
        "r = requests.post(\"http://httpbin.org/post\", data=payload)\n",
        "print(r.text)"
      ],
      "metadata": {
        "colab": {
          "base_uri": "https://localhost:8080/"
        },
        "id": "mbTdEsrVDiqf",
        "outputId": "66d7f19c-0579-49f8-9823-ecb3c87e9eaf"
      },
      "execution_count": null,
      "outputs": [
        {
          "output_type": "stream",
          "name": "stdout",
          "text": [
            "{\n",
            "  \"args\": {}, \n",
            "  \"data\": \"\", \n",
            "  \"files\": {}, \n",
            "  \"form\": {\n",
            "    \"key1\": \"value1\", \n",
            "    \"key2\": \"value2\"\n",
            "  }, \n",
            "  \"headers\": {\n",
            "    \"Accept\": \"*/*\", \n",
            "    \"Accept-Encoding\": \"gzip, deflate\", \n",
            "    \"Content-Length\": \"23\", \n",
            "    \"Content-Type\": \"application/x-www-form-urlencoded\", \n",
            "    \"Host\": \"httpbin.org\", \n",
            "    \"User-Agent\": \"python-requests/2.23.0\", \n",
            "    \"X-Amzn-Trace-Id\": \"Root=1-62039928-330ede5b7a48562338374184\"\n",
            "  }, \n",
            "  \"json\": null, \n",
            "  \"origin\": \"104.199.123.139\", \n",
            "  \"url\": \"http://httpbin.org/post\"\n",
            "}\n",
            "\n"
          ]
        }
      ]
    },
    {
      "cell_type": "markdown",
      "source": [
        "# BeautifulSoup模組：網頁解析"
      ],
      "metadata": {
        "id": "S_DLCrsRHjdI"
      }
    },
    {
      "cell_type": "code",
      "source": [
        "import requests\n",
        "from bs4 import BeautifulSoup\n",
        "url = 'http://www.ehappy.tw/bsdemo1.htm'\n",
        "html = requests.get(url)\n",
        "html.encoding = 'UTF-8'\n",
        "sp = BeautifulSoup(html.text, 'html.parser')\n",
        "print(sp.title)\t\t\t\n",
        "print(sp.title.text)\t\n",
        "print(sp.h1)"
      ],
      "metadata": {
        "id": "utI-MMTcFkOH",
        "outputId": "7cfe5836-0200-406c-b09d-d30eaf10888a",
        "colab": {
          "base_uri": "https://localhost:8080/"
        }
      },
      "execution_count": null,
      "outputs": [
        {
          "output_type": "stream",
          "name": "stdout",
          "text": [
            "<title>我是網頁標題</title>\n",
            "我是網頁標題\n",
            "<h1 class=\"large\">我是標題</h1>\n"
          ]
        }
      ]
    },
    {
      "cell_type": "code",
      "source": [
        "from bs4 import BeautifulSoup\n",
        "html = '''\n",
        "<html>\n",
        "  <head><meta charset=\"UTF-8\"><title>我是網頁標題</title></head>\n",
        "  <body>\n",
        "      <p id=\"p1\">我是段落一</p>\n",
        "      <p id=\"p2\" class='red'>我是段落二</p>\n",
        "  </body>\n",
        "</html>\n",
        "'''\n",
        "sp = BeautifulSoup(html, 'html.parser')\n",
        "print(sp.find('p'))\n",
        "print(sp.find_all('p'))\n",
        "print(sp.find('p', {'id':'p2', 'class':'red'}))\n",
        "print(sp.find('p', id='p2', class_= 'red'))"
      ],
      "metadata": {
        "id": "bu41GfxYHEms",
        "outputId": "561d2cf6-f351-4d24-915d-43077559a4b7",
        "colab": {
          "base_uri": "https://localhost:8080/"
        }
      },
      "execution_count": null,
      "outputs": [
        {
          "output_type": "stream",
          "name": "stdout",
          "text": [
            "<p id=\"p1\">我是段落一</p>\n",
            "[<p id=\"p1\">我是段落一</p>, <p class=\"red\" id=\"p2\">我是段落二</p>]\n",
            "<p class=\"red\" id=\"p2\">我是段落二</p>\n",
            "<p class=\"red\" id=\"p2\">我是段落二</p>\n"
          ]
        }
      ]
    },
    {
      "cell_type": "code",
      "source": [
        "from bs4 import BeautifulSoup\n",
        "html = '''\n",
        "<html>\n",
        "  <head><meta charset=\"UTF-8\"><title>我是網頁標題</title></head>\n",
        "  <body>\n",
        "      <p id=\"p1\">我是段落一</p>\n",
        "      <p id=\"p2\" class='red'>我是段落二</p>\n",
        "  </body>\n",
        "</html>\n",
        "'''\n",
        "sp = BeautifulSoup(html, 'html.parser')\n",
        "print(sp.select('title'))\n",
        "print(sp.select('p'))\n",
        "print(sp.select('#p1'))\n",
        "print(sp.select('.red'))"
      ],
      "metadata": {
        "colab": {
          "base_uri": "https://localhost:8080/"
        },
        "id": "Fywoajt2Q1E8",
        "outputId": "3f544ebb-bb40-4027-fa8c-5cc3d4773290"
      },
      "execution_count": null,
      "outputs": [
        {
          "output_type": "stream",
          "name": "stdout",
          "text": [
            "[<title>我是網頁標題</title>]\n",
            "[<p id=\"p1\">我是段落一</p>, <p class=\"red\" id=\"p2\">我是段落二</p>]\n",
            "[<p id=\"p1\">我是段落一</p>]\n",
            "[<p class=\"red\" id=\"p2\">我是段落二</p>]\n"
          ]
        }
      ]
    },
    {
      "cell_type": "code",
      "source": [
        "html = '''\n",
        "<html>\n",
        "  <head><meta charset=\"UTF-8\"><title>我是網頁標題</title></head>\n",
        "  <body>\n",
        "      <img src=\"http://www.ehappy.tw/python.png\">\n",
        "      <a href=\"http://www.e-happy.com.tw\">超連結</a>\n",
        "  </body>\n",
        "</html>\n",
        "'''\n",
        "sp = BeautifulSoup(html, 'html.parser')\n",
        "# 用 回傳值.get(屬性名稱) 取得圖片及超連結的網址\n",
        "print(sp.find('img').get('src'))\n",
        "print(sp.find('a').get('href'))\n",
        "# 用 回傳值[屬性名稱] 取得圖片及超連結的網址\n",
        "print(sp.find('img')['src'])\n",
        "print(sp.find('a')['href'])  "
      ],
      "metadata": {
        "colab": {
          "base_uri": "https://localhost:8080/"
        },
        "id": "CM7e82rORcw-",
        "outputId": "b72145d2-d3e1-4838-fbc2-db2e4266d823"
      },
      "execution_count": null,
      "outputs": [
        {
          "output_type": "stream",
          "name": "stdout",
          "text": [
            "http://www.ehappy.tw/python.png\n",
            "http://www.e-happy.com.tw\n",
            "http://www.ehappy.tw/python.png\n",
            "http://www.e-happy.com.tw\n"
          ]
        }
      ]
    },
    {
      "cell_type": "markdown",
      "source": [
        "# 文字及檔案資料的收集"
      ],
      "metadata": {
        "id": "OcCPHJe3HuFX"
      }
    },
    {
      "cell_type": "code",
      "source": [
        "content='''Hello Python\n",
        "中文字測試\n",
        "Welcome'''\n",
        "f=open('file1.txt', 'w', encoding='utf-8', newline=\"\")\n",
        "f.write(content)\n",
        "f.close()"
      ],
      "metadata": {
        "id": "SqtRmh0CbliO"
      },
      "execution_count": 6,
      "outputs": []
    },
    {
      "cell_type": "code",
      "source": [
        "content='''Hello Python\n",
        "中文字測試\n",
        "Welcome'''\n",
        "with open('file1.txt', 'w', encoding='utf-8', newline=\"\") as f:\n",
        "    f.write(content)"
      ],
      "metadata": {
        "id": "iWEKOQbtdYJP"
      },
      "execution_count": 7,
      "outputs": []
    },
    {
      "cell_type": "code",
      "source": [
        "with open('file1.txt', 'r', encoding='utf-8') as f:\n",
        "    output_str=f.read()\n",
        "    print(output_str)   # Hello"
      ],
      "metadata": {
        "colab": {
          "base_uri": "https://localhost:8080/"
        },
        "id": "sJRGdJv0d0k6",
        "outputId": "ffe9893f-528c-4017-cea6-322a8ab165b9"
      },
      "execution_count": 8,
      "outputs": [
        {
          "output_type": "stream",
          "name": "stdout",
          "text": [
            "Hello Python\n",
            "中文字測試\n",
            "Welcome\n"
          ]
        }
      ]
    },
    {
      "cell_type": "code",
      "source": [
        "with open('file1.txt', 'r', encoding ='UTF-8') as f:\n",
        "    print(f.readline())\n",
        "    print(f.readline(3))"
      ],
      "metadata": {
        "colab": {
          "base_uri": "https://localhost:8080/"
        },
        "id": "w9BRDxEPeRWv",
        "outputId": "acf6486b-526c-430f-a9e0-3d4ecef7f251"
      },
      "execution_count": 9,
      "outputs": [
        {
          "output_type": "stream",
          "name": "stdout",
          "text": [
            "Hello Python\n",
            "\n",
            "中文字\n"
          ]
        }
      ]
    },
    {
      "cell_type": "code",
      "source": [
        "with open('file1.txt', 'r', encoding='utf-8') as f:\n",
        "    content=f.readlines()\n",
        "    print(type(content))\n",
        "    print(content)"
      ],
      "metadata": {
        "colab": {
          "base_uri": "https://localhost:8080/"
        },
        "id": "ytHYXrEPfP-Q",
        "outputId": "e6f78f10-2004-44eb-9758-5ad530968f6d"
      },
      "execution_count": 10,
      "outputs": [
        {
          "output_type": "stream",
          "name": "stdout",
          "text": [
            "<class 'list'>\n",
            "['Hello Python\\n', '中文字測試\\n', 'Welcome']\n"
          ]
        }
      ]
    },
    {
      "cell_type": "code",
      "source": [
        "with open('file1.txt', 'r', encoding='utf-8') as f:\n",
        "    print(f.readlines())"
      ],
      "metadata": {
        "colab": {
          "base_uri": "https://localhost:8080/"
        },
        "id": "jKM89qZBfnBY",
        "outputId": "376707c3-20e2-4201-eaed-866b8f13b868"
      },
      "execution_count": 11,
      "outputs": [
        {
          "output_type": "stream",
          "name": "stdout",
          "text": [
            "['Hello Python\\n', '中文字測試\\n', 'Welcome']\n"
          ]
        }
      ]
    },
    {
      "cell_type": "code",
      "source": [
        "import requests\n",
        "\n",
        "imgurl = 'https://www.google.com/images/branding/googlelogo/1x/googlelogo_color_272x92dp.png'\n",
        "r = requests.get(imgurl)\n",
        "\n",
        "with open('google.png', 'wb') as f:\n",
        "  f.write(r.content)"
      ],
      "metadata": {
        "id": "Cp1YD1pDhuOW"
      },
      "execution_count": 12,
      "outputs": []
    }
  ]
}